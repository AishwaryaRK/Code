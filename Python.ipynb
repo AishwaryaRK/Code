{
 "cells": [
  {
   "cell_type": "code",
   "execution_count": 4,
   "metadata": {
    "collapsed": true
   },
   "outputs": [],
   "source": [
    "from IPython.core.interactiveshell import InteractiveShell\n",
    "InteractiveShell.ast_node_interactivity = \"all\""
   ]
  },
  {
   "cell_type": "code",
   "execution_count": 62,
   "metadata": {
    "collapsed": false
   },
   "outputs": [
    {
     "name": "stdout",
     "output_type": "stream",
     "text": [
      "Counter({'v': 3, 'h': 2, 'j': 2, 'a': 1})\n"
     ]
    },
    {
     "data": {
      "text/plain": [
       "3"
      ]
     },
     "execution_count": 62,
     "metadata": {},
     "output_type": "execute_result"
    }
   ],
   "source": [
    "import collections\n",
    "a = collections.Counter('avvjhvjh')\n",
    "print(a)\n",
    "a['v']\n"
   ]
  },
  {
   "cell_type": "code",
   "execution_count": 6,
   "metadata": {
    "collapsed": false
   },
   "outputs": [
    {
     "data": {
      "text/plain": [
       "False"
      ]
     },
     "execution_count": 6,
     "metadata": {},
     "output_type": "execute_result"
    },
    {
     "data": {
      "text/plain": [
       "True"
      ]
     },
     "execution_count": 6,
     "metadata": {},
     "output_type": "execute_result"
    }
   ],
   "source": [
    "a='1'\n",
    "a.isalpha()\n",
    "a.isnumeric()"
   ]
  },
  {
   "cell_type": "code",
   "execution_count": 8,
   "metadata": {
    "collapsed": false
   },
   "outputs": [
    {
     "data": {
      "text/plain": [
       "4"
      ]
     },
     "execution_count": 8,
     "metadata": {},
     "output_type": "execute_result"
    },
    {
     "data": {
      "text/plain": [
       "10"
      ]
     },
     "execution_count": 8,
     "metadata": {},
     "output_type": "execute_result"
    }
   ],
   "source": [
    "from operator import itemgetter\n",
    "positions = [(0, 3), (2, 9), (4, 4), (1, 10)]\n",
    "max(positions,key=itemgetter(0))[0]\n",
    "max(positions,key=itemgetter(1))[1]"
   ]
  },
  {
   "cell_type": "code",
   "execution_count": 9,
   "metadata": {
    "collapsed": false
   },
   "outputs": [
    {
     "name": "stdout",
     "output_type": "stream",
     "text": [
      "1 2 3 4 5\n",
      "1, 2, 3, 4, 5\n",
      "1 -> 2 -> 3 -> 4 -> 5\n"
     ]
    }
   ],
   "source": [
    "L = [1, 2, 3, 4, 5]\n",
    "print(*L)\n",
    "print(*L, sep=', ')\n",
    "print(*L, sep=' -> ')"
   ]
  },
  {
   "cell_type": "code",
   "execution_count": 30,
   "metadata": {
    "collapsed": false,
    "scrolled": true
   },
   "outputs": [
    {
     "name": "stdout",
     "output_type": "stream",
     "text": [
      "[   [1, 9, 8, 0, 4],\n",
      "    [9, 0, 5, 5, 0],\n",
      "    [1, 6, 0, 2, 8],\n",
      "    [8, 4, 9, 8, 3],\n",
      "    [4, 4, 9, 1, 7],\n",
      "    [5, 7, 6, 2, 4],\n",
      "    [2, 5, 5, 0, 5],\n",
      "    [2, 9, 7, 7, 6],\n",
      "    [8, 1, 2, 0, 3],\n",
      "    [2, 8, 7, 4, 6],\n",
      "    [3, 8, 0, 4, 9],\n",
      "    [7, 9, 7, 5, 1],\n",
      "    [3, 7, 8, 0, 9],\n",
      "    [5, 2, 1, 3, 2],\n",
      "    [7, 3, 3, 2, 3],\n",
      "    [8, 6, 1, 6, 0],\n",
      "    [9, 1, 9, 1, 5]]\n"
     ]
    }
   ],
   "source": [
    "import pprint\n",
    "pp = pprint.PrettyPrinter(indent=4)\n",
    "a = [[1, 9, 8, 0, 4], [9, 0, 5, 5, 0], [1, 6, 0, 2, 8], [8, 4, 9, 8, 3], [4, 4, 9, 1, 7], [5, 7, 6, 2, 4], [2, 5, 5, 0, 5], [2, 9, 7, 7, 6], [8, 1, 2, 0, 3], [2, 8, 7, 4, 6], [3, 8, 0, 4, 9], [7, 9, 7, 5, 1], [3, 7, 8, 0, 9], [5, 2, 1, 3, 2], [7, 3, 3, 2, 3], [8, 6, 1, 6, 0], [9, 1, 9, 1, 5]]\n",
    "pp.pprint(a)\n"
   ]
  },
  {
   "cell_type": "code",
   "execution_count": 60,
   "metadata": {
    "collapsed": false
   },
   "outputs": [
    {
     "data": {
      "text/plain": [
       "[1, 2, 3, 6]"
      ]
     },
     "execution_count": 60,
     "metadata": {},
     "output_type": "execute_result"
    },
    {
     "data": {
      "text/plain": [
       "['a', 'b', 'c', 'h']"
      ]
     },
     "execution_count": 60,
     "metadata": {},
     "output_type": "execute_result"
    },
    {
     "data": {
      "text/plain": [
       "'hbca'"
      ]
     },
     "execution_count": 60,
     "metadata": {},
     "output_type": "execute_result"
    }
   ],
   "source": [
    "a = [3,2,6,1]\n",
    "a.sort()\n",
    "a\n",
    "\n",
    "a='hbca'\n",
    "sorted(a)\n",
    "a"
   ]
  },
  {
   "cell_type": "code",
   "execution_count": 20,
   "metadata": {
    "collapsed": false
   },
   "outputs": [
    {
     "data": {
      "text/plain": [
       "[2, 4]"
      ]
     },
     "execution_count": 20,
     "metadata": {},
     "output_type": "execute_result"
    }
   ],
   "source": [
    "d = {1:'x',2:'a',3:'h',4:'a'}\n",
    "[key for key, value in d.items() if value == 'a']\n"
   ]
  },
  {
   "cell_type": "code",
   "execution_count": 22,
   "metadata": {
    "collapsed": false
   },
   "outputs": [
    {
     "name": "stdout",
     "output_type": "stream",
     "text": [
      "[1, 2, 3, 4]\n"
     ]
    }
   ],
   "source": [
    "a = \"1 2 3 4\"\n",
    "numbers = list(map(int, a.strip().split(' ')))\n",
    "print(numbers)"
   ]
  },
  {
   "cell_type": "code",
   "execution_count": 25,
   "metadata": {
    "collapsed": false
   },
   "outputs": [
    {
     "data": {
      "text/plain": [
       "True"
      ]
     },
     "execution_count": 25,
     "metadata": {},
     "output_type": "execute_result"
    }
   ],
   "source": [
    "a=[1,1,1,1]\n",
    "all(c == 1 for c in a)"
   ]
  },
  {
   "cell_type": "code",
   "execution_count": 63,
   "metadata": {
    "collapsed": false
   },
   "outputs": [
    {
     "name": "stdout",
     "output_type": "stream",
     "text": [
      "[[9, 2], [3, 4], [5, 6]]\n",
      "[[9, 2], [3, 4], [5, 6]]\n",
      "-------------------------\n",
      "[1, 2, 3]\n",
      "[1, 2, 3, 4]\n",
      "-------------------------\n",
      "[1, 2, 3]\n",
      "[1, 2, 3, 4]\n",
      "-------------------------\n",
      "[[1, 2], [3, 4], [5, 6]]\n",
      "[[9, 2], [3, 4], [5, 6]]\n",
      "-------------------------\n"
     ]
    }
   ],
   "source": [
    "a = [[1,2],[3,4],[5,6]]\n",
    "b = a[:]\n",
    "b[0][0] = 9\n",
    "print(a)\n",
    "print(b)\n",
    "print(\"-------------------------\")\n",
    "\n",
    "x=[1,2,3]\n",
    "y=x[:]\n",
    "y.append(4)\n",
    "print(x)\n",
    "print(y)\n",
    "print(\"-------------------------\")\n",
    "\n",
    "x=[1,2,3]\n",
    "y=x+[]\n",
    "y.append(4)\n",
    "print(x)\n",
    "print(y)\n",
    "print(\"-------------------------\")\n",
    "\n",
    "a = [[1,2],[3,4],[5,6]]\n",
    "b = [row[:] for row in a]\n",
    "b[0][0] = 9\n",
    "print(a)\n",
    "print(b)\n",
    "print(\"-------------------------\")\n",
    "\n"
   ]
  },
  {
   "cell_type": "code",
   "execution_count": 55,
   "metadata": {
    "collapsed": false
   },
   "outputs": [
    {
     "data": {
      "text/plain": [
       "[1, 3, 4, 3, 4]"
      ]
     },
     "execution_count": 55,
     "metadata": {},
     "output_type": "execute_result"
    },
    {
     "data": {
      "text/plain": [
       "[1, 2, 3, 4, 2, 3, 2, 2, 4]"
      ]
     },
     "execution_count": 55,
     "metadata": {},
     "output_type": "execute_result"
    }
   ],
   "source": [
    "a=[1,2,3,4,2,3,2,2,4]\n",
    "list(filter(lambda e: e!=2, a))\n",
    "a"
   ]
  },
  {
   "cell_type": "markdown",
   "metadata": {},
   "source": [
    "Set of list of lists"
   ]
  },
  {
   "cell_type": "code",
   "execution_count": 66,
   "metadata": {
    "collapsed": false
   },
   "outputs": [
    {
     "name": "stdout",
     "output_type": "stream",
     "text": [
      "[[4, 5], [2, 3, 4], [1, 2, 3]]\n"
     ]
    }
   ],
   "source": [
    "a=[[1,2,3],[2,3,4],[1,2,3],[4,5]]\n",
    "b=[tuple(e) for e in a]\n",
    "c=set(b)\n",
    "d=[list(e) for e in c]\n",
    "print(d)"
   ]
  },
  {
   "cell_type": "code",
   "execution_count": null,
   "metadata": {
    "collapsed": true
   },
   "outputs": [],
   "source": []
  }
 ],
 "metadata": {
  "kernelspec": {
   "display_name": "Python 3",
   "language": "python",
   "name": "python3"
  },
  "language_info": {
   "codemirror_mode": {
    "name": "ipython",
    "version": 3
   },
   "file_extension": ".py",
   "mimetype": "text/x-python",
   "name": "python",
   "nbconvert_exporter": "python",
   "pygments_lexer": "ipython3",
   "version": "3.5.2"
  }
 },
 "nbformat": 4,
 "nbformat_minor": 2
}
